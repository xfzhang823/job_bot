{
 "cells": [
  {
   "cell_type": "code",
   "execution_count": 4,
   "metadata": {},
   "outputs": [
    {
     "name": "stdout",
     "output_type": "stream",
     "text": [
      "11 years of experience in management consulting, product management and strategy, or analytics in a technology company.\n",
      "Experience working with and analyzing data, and managing multiple cross-functional programs or projects.\n",
      "Experience with performing market analysis and developing competitive intelligence.\n",
      "Ability to manage executive stakeholders and communicate with a highly technical management team.\n",
      "Ability to form and refine hypotheses, gather supporting data, and make recommendations.\n",
      "Excellent problem solving and analysis skills, including opportunity identification, market segmentation, and framing of complex/ambiguous problems\n"
     ]
    }
   ],
   "source": [
    "texts = [\"11 years of experience in management consulting, product management and strategy, or analytics in a technology company\", \n",
    "        \"Experience working with and analyzing data, and managing multiple cross-functional programs or projects\",\n",
    "        \"Experience with performing market analysis and developing competitive intelligence\",\n",
    "        \"Ability to manage executive stakeholders and communicate with a highly technical management team\",\n",
    "        \"Ability to form and refine hypotheses, gather supporting data, and make recommendations\",\n",
    "        \"Excellent problem solving and analysis skills, including opportunity identification, market segmentation, and framing of complex/ambiguous problems\"]\n",
    "\n",
    "texts = \".\\n\".join(text for text in texts)\n",
    "\n",
    "print(texts)"
   ]
  },
  {
   "cell_type": "code",
   "execution_count": null,
   "metadata": {},
   "outputs": [],
   "source": []
  }
 ],
 "metadata": {
  "kernelspec": {
   "display_name": "env",
   "language": "python",
   "name": "python3"
  },
  "language_info": {
   "codemirror_mode": {
    "name": "ipython",
    "version": 3
   },
   "file_extension": ".py",
   "mimetype": "text/x-python",
   "name": "python",
   "nbconvert_exporter": "python",
   "pygments_lexer": "ipython3",
   "version": "3.11.8"
  }
 },
 "nbformat": 4,
 "nbformat_minor": 2
}
